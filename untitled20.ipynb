{
  "nbformat": 4,
  "nbformat_minor": 0,
  "metadata": {
    "colab": {
      "provenance": [],
      "authorship_tag": "ABX9TyPdpQvaVoFrsz1YzpGWZmTn",
      "include_colab_link": true
    },
    "kernelspec": {
      "name": "python3",
      "display_name": "Python 3"
    },
    "language_info": {
      "name": "python"
    }
  },
  "cells": [
    {
      "cell_type": "markdown",
      "metadata": {
        "id": "view-in-github",
        "colab_type": "text"
      },
      "source": [
        "<a href=\"https://colab.research.google.com/github/valeriadorado1/programa-2/blob/main/untitled20.ipynb\" target=\"_parent\"><img src=\"https://colab.research.google.com/assets/colab-badge.svg\" alt=\"Open In Colab\"/></a>"
      ]
    },
    {
      "cell_type": "code",
      "execution_count": null,
      "metadata": {
        "colab": {
          "base_uri": "https://localhost:8080/"
        },
        "id": "_cMoYyPLaaOT",
        "outputId": "46268810-3992-44d2-94b5-c006c44e56b2"
      },
      "outputs": [
        {
          "output_type": "stream",
          "name": "stdout",
          "text": [
            "dime tu edad: 20\n",
            "dime tu edad: 20\n",
            "dime tu edad: 20\n",
            "dime tu edad: 20\n",
            "dime tu edad: 16\n",
            "dime tu edad: 16\n",
            "dime tu edad: 17\n",
            "dime tu edad: 15\n",
            "dime tu edad: 35\n",
            "dime tu edad: 24\n",
            "los mayores de edad son: 6\n",
            "Los menores de edad son: 4\n"
          ]
        }
      ],
      "source": [
        "edades=[]\n",
        "mayoredad= []\n",
        "menoredad= []\n",
        "def leer (e):\n",
        "    for i in range (10) :\n",
        "     e.append (int(input (\"dime tu edad: \")))\n",
        "\n",
        "def persona_mayor (e,my,mn) :\n",
        "    for edad in e:\n",
        "        if edad >= 18:\n",
        "            my.append (edad)\n",
        "        else:\n",
        "            mn.append (edad)\n",
        "def resultado (my,mn):\n",
        "    print(\"los mayores de edad son:\", len(my))\n",
        "    print(\"Los menores de edad son:\", len(mn))\n",
        "\n",
        "leer (edades)\n",
        "persona_mayor (edades,mayoredad,menoredad)\n",
        "resultado (mayoredad,menoredad)"
      ]
    }
  ]
}